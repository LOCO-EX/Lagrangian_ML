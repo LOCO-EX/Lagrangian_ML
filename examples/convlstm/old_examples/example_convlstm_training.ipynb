{
 "cells": [
  {
   "cell_type": "markdown",
   "metadata": {},
   "source": [
    "## Example script: training and predicting with ConvLSTM\n",
    "Author          : SSI project team Wadden Sea <br>\n",
    "First Built     : 2021.08.01 <br>\n",
    "Last Update     : 2021.08.12 <br>\n",
    "Description     : This notebook serves as an example of training and predicting with\n",
    "                  Convolutional Long-Short Term Memeory Neural Network (ConvLSTM). <br>\n",
    "Dependency      : os, numpy, pytorch <br>\n",
    "Return Values   : time series / array <br>\n",
    "Caveat!         : This module performs many-to-one prediction! It supports CUDA. <br>\n"
   ]
  },
  {
   "cell_type": "code",
   "execution_count": 3,
   "metadata": {},
   "outputs": [],
   "source": [
    "import os\n",
    "import sys\n",
    "import numpy as np\n",
    "import torch\n",
    "import torch.nn.functional\n",
    "from torch.autograd import Variable\n",
    "import matplotlib.pyplot as plt\n",
    "\n",
    "# import convlstm\n",
    "sys.path.append(\"../../../src\")\n",
    "import convlstm"
   ]
  },
  {
   "cell_type": "code",
   "execution_count": 4,
   "metadata": {},
   "outputs": [],
   "source": [
    "# import random\n",
    "# random.seed(0)\n",
    "# np.random.seed(0)\n",
    "# torch.manual_seed(0)"
   ]
  },
  {
   "cell_type": "markdown",
   "metadata": {},
   "source": [
    "### Path"
   ]
  },
  {
   "cell_type": "code",
   "execution_count": 5,
   "metadata": {},
   "outputs": [],
   "source": [
    "# please specify output path for the model\n",
    "output_path = './model'\n",
    "if not os.path.exists(output_path):\n",
    "   os.makedirs(output_path, exist_ok = True)"
   ]
  },
  {
   "cell_type": "markdown",
   "metadata": {},
   "source": [
    "### Hyper-parameter of neural network"
   ]
  },
  {
   "cell_type": "code",
   "execution_count": 6,
   "metadata": {},
   "outputs": [],
   "source": [
    "input_channels = 4 # number of input channels e.g. concentration heatmap, current, wind curl, etc.\n",
    "output_channels = 2\n",
    "hidden_channels = [6, 3, output_channels] # the last digit is the output channel of each ConvLSTMCell (so we are using 3 layers)\n",
    "kernel_size = 3\n",
    "batch_size = 1 #not used in this tutorial\n",
    "learning_rate = 0.01\n",
    "num_epochs = 201 #51"
   ]
  },
  {
   "cell_type": "markdown",
   "metadata": {},
   "source": [
    "### Hardware info and version of pytorch"
   ]
  },
  {
   "cell_type": "code",
   "execution_count": 7,
   "metadata": {},
   "outputs": [
    {
     "name": "stdout",
     "output_type": "stream",
     "text": [
      "Pytorch version 1.8.1\n",
      "Device to be used for computation: cpu\n"
     ]
    }
   ],
   "source": [
    "print (\"Pytorch version {}\".format(torch.__version__))\n",
    "# check if CUDA is available\n",
    "use_cuda = torch.cuda.is_available()\n",
    "# use GPU if possible\n",
    "device = torch.device(\"cuda:0\" if torch.cuda.is_available() else \"cpu\")\n",
    "print(\"Device to be used for computation: {}\".format(device))"
   ]
  },
  {
   "cell_type": "markdown",
   "metadata": {},
   "source": [
    "### Initialize model"
   ]
  },
  {
   "cell_type": "code",
   "execution_count": 8,
   "metadata": {},
   "outputs": [
    {
     "name": "stdout",
     "output_type": "stream",
     "text": [
      "ConvLSTM(\n",
      "  (cell0): ConvLSTMCell(\n",
      "    (Wxi): Conv2d(4, 6, kernel_size=(3, 3), stride=(1, 1), padding=(1, 1))\n",
      "    (Whi): Conv2d(6, 6, kernel_size=(3, 3), stride=(1, 1), padding=(1, 1), bias=False)\n",
      "    (Wxf): Conv2d(4, 6, kernel_size=(3, 3), stride=(1, 1), padding=(1, 1))\n",
      "    (Whf): Conv2d(6, 6, kernel_size=(3, 3), stride=(1, 1), padding=(1, 1), bias=False)\n",
      "    (Wxc): Conv2d(4, 6, kernel_size=(3, 3), stride=(1, 1), padding=(1, 1))\n",
      "    (Whc): Conv2d(6, 6, kernel_size=(3, 3), stride=(1, 1), padding=(1, 1), bias=False)\n",
      "    (Wxo): Conv2d(4, 6, kernel_size=(3, 3), stride=(1, 1), padding=(1, 1))\n",
      "    (Who): Conv2d(6, 6, kernel_size=(3, 3), stride=(1, 1), padding=(1, 1), bias=False)\n",
      "  )\n",
      "  (cell1): ConvLSTMCell(\n",
      "    (Wxi): Conv2d(6, 3, kernel_size=(3, 3), stride=(1, 1), padding=(1, 1))\n",
      "    (Whi): Conv2d(3, 3, kernel_size=(3, 3), stride=(1, 1), padding=(1, 1), bias=False)\n",
      "    (Wxf): Conv2d(6, 3, kernel_size=(3, 3), stride=(1, 1), padding=(1, 1))\n",
      "    (Whf): Conv2d(3, 3, kernel_size=(3, 3), stride=(1, 1), padding=(1, 1), bias=False)\n",
      "    (Wxc): Conv2d(6, 3, kernel_size=(3, 3), stride=(1, 1), padding=(1, 1))\n",
      "    (Whc): Conv2d(3, 3, kernel_size=(3, 3), stride=(1, 1), padding=(1, 1), bias=False)\n",
      "    (Wxo): Conv2d(6, 3, kernel_size=(3, 3), stride=(1, 1), padding=(1, 1))\n",
      "    (Who): Conv2d(3, 3, kernel_size=(3, 3), stride=(1, 1), padding=(1, 1), bias=False)\n",
      "  )\n",
      "  (cell2): ConvLSTMCell(\n",
      "    (Wxi): Conv2d(3, 2, kernel_size=(3, 3), stride=(1, 1), padding=(1, 1))\n",
      "    (Whi): Conv2d(2, 2, kernel_size=(3, 3), stride=(1, 1), padding=(1, 1), bias=False)\n",
      "    (Wxf): Conv2d(3, 2, kernel_size=(3, 3), stride=(1, 1), padding=(1, 1))\n",
      "    (Whf): Conv2d(2, 2, kernel_size=(3, 3), stride=(1, 1), padding=(1, 1), bias=False)\n",
      "    (Wxc): Conv2d(3, 2, kernel_size=(3, 3), stride=(1, 1), padding=(1, 1))\n",
      "    (Whc): Conv2d(2, 2, kernel_size=(3, 3), stride=(1, 1), padding=(1, 1), bias=False)\n",
      "    (Wxo): Conv2d(3, 2, kernel_size=(3, 3), stride=(1, 1), padding=(1, 1))\n",
      "    (Who): Conv2d(2, 2, kernel_size=(3, 3), stride=(1, 1), padding=(1, 1), bias=False)\n",
      "  )\n",
      ")\n",
      "MSELoss()\n",
      "Adam (\n",
      "Parameter Group 0\n",
      "    amsgrad: False\n",
      "    betas: (0.9, 0.999)\n",
      "    eps: 1e-08\n",
      "    lr: 0.01\n",
      "    weight_decay: 0\n",
      ")\n"
     ]
    }
   ],
   "source": [
    "# initialize our model\n",
    "model = convlstm.ConvLSTM(input_channels, hidden_channels, kernel_size).to(device)\n",
    "# choose loss function\n",
    "loss_fn = torch.nn.MSELoss()\n",
    "# choose optimizer\n",
    "optimizer = torch.optim.Adam(model.parameters(), lr=learning_rate)\n",
    "# check the model / loss function and optimizer\n",
    "print(model)\n",
    "print(loss_fn)\n",
    "print(optimizer)"
   ]
  },
  {
   "cell_type": "markdown",
   "metadata": {},
   "source": [
    "### Create dummy data for testing"
   ]
  },
  {
   "cell_type": "code",
   "execution_count": 9,
   "metadata": {},
   "outputs": [],
   "source": [
    "# training data\n",
    "nx=5; ny=7; nt=3\n",
    "train_x_torch = Variable(torch.randn(nt, input_channels, ny, nx)).to(device) # shape [timestep, channel, ny, nx]\n",
    "train_y_torch = Variable(torch.randn(nt, output_channels, ny, nx)).float().to(device)\n",
    "#\n",
    "# testing data\n",
    "#test_x_torch = Variable(torch.randn(2, input_channels, ny, nx)).to(device) # shape [timestep, channel, ny, nx]\n",
    "#test_y_torch = Variable(torch.randn(2, output_channels, ny, nx)).float().to(device)\n",
    "# get length of training set\n",
    "train_steps, input_channels, ny, nx = train_x_torch.shape"
   ]
  },
  {
   "cell_type": "markdown",
   "metadata": {},
   "source": [
    "### Training"
   ]
  },
  {
   "cell_type": "code",
   "execution_count": 19,
   "metadata": {},
   "outputs": [
    {
     "name": "stdout",
     "output_type": "stream",
     "text": [
      "Epoch  0 ; sum(MSE(t)) =  0.9352471828460693 ; sum(MAE(t)) =  27.36209\n",
      "Epoch  10 ; sum(MSE(t)) =  0.8884185552597046 ; sum(MAE(t)) =  44.32109\n",
      "Epoch  20 ; sum(MSE(t)) =  0.885991096496582 ; sum(MAE(t)) =  45.468937\n",
      "Epoch  30 ; sum(MSE(t)) =  0.8751469254493713 ; sum(MAE(t)) =  46.15951\n",
      "Epoch  40 ; sum(MSE(t)) =  0.8549214601516724 ; sum(MAE(t)) =  43.145016\n",
      "Epoch  50 ; sum(MSE(t)) =  0.8437141180038452 ; sum(MAE(t)) =  29.65254\n",
      "Epoch  60 ; sum(MSE(t)) =  0.8412585258483887 ; sum(MAE(t)) =  47.380554\n",
      "Epoch  70 ; sum(MSE(t)) =  0.844801664352417 ; sum(MAE(t)) =  50.85138\n",
      "Epoch  80 ; sum(MSE(t)) =  0.8304698467254639 ; sum(MAE(t)) =  42.06608\n",
      "Epoch  90 ; sum(MSE(t)) =  0.8349236845970154 ; sum(MAE(t)) =  32.353836\n",
      "Epoch  100 ; sum(MSE(t)) =  0.8329381942749023 ; sum(MAE(t)) =  27.85095\n",
      "Epoch  110 ; sum(MSE(t)) =  0.8138623833656311 ; sum(MAE(t)) =  30.779749\n",
      "Epoch  120 ; sum(MSE(t)) =  0.8186662197113037 ; sum(MAE(t)) =  31.696531\n",
      "Epoch  130 ; sum(MSE(t)) =  0.8083949089050293 ; sum(MAE(t)) =  39.381233\n",
      "Epoch  140 ; sum(MSE(t)) =  0.7896362543106079 ; sum(MAE(t)) =  7.482811\n",
      "Epoch  150 ; sum(MSE(t)) =  0.8077903985977173 ; sum(MAE(t)) =  33.73191\n",
      "Epoch  160 ; sum(MSE(t)) =  0.7930542230606079 ; sum(MAE(t)) =  32.880753\n",
      "Epoch  170 ; sum(MSE(t)) =  0.7932113409042358 ; sum(MAE(t)) =  19.450306\n",
      "Epoch  180 ; sum(MSE(t)) =  0.7847657203674316 ; sum(MAE(t)) =  37.065666\n",
      "Epoch  190 ; sum(MSE(t)) =  0.7965521812438965 ; sum(MAE(t)) =  26.884872\n",
      "Epoch  200 ; sum(MSE(t)) =  0.7824125289916992 ; sum(MAE(t)) =  32.1363\n",
      "The checkpoint of the model and training status is saved.\n"
     ]
    }
   ],
   "source": [
    "loss = np.zeros(num_epochs) # save for every epoch the sum of loss for all the time steps\n",
    "pred_y=[]\n",
    "mape = np.zeros(num_epochs) #save for every epoch the sum of the mean absolute percentage error\n",
    "for epoch in range(num_epochs):\n",
    "    # Clear stored gradient\n",
    "    model.zero_grad()\n",
    "    # loop through all timesteps\n",
    "    for t in range(train_steps):\n",
    "        #\n",
    "        #torch.autograd.Variable = to the original tensor, so it is unnecessary\n",
    "        #var_x = torch.autograd.Variable(train_x_torch[t,:,:,:].view(-1,input_channels,ny,nx)).to(device) # record gradient\n",
    "        #var_y = torch.autograd.Variable(train_y_torch[t,:,:,:].view(-1,output_channels,ny,nx)).to(device) # record gradient\n",
    "        #\n",
    "        #train_x_torch[t,:,:,:].view(-1,input_channels,ny,nx) = train_x_torch[t,:,:,:][np.newaxis,...]\n",
    "        #train_x_torch[t,:,:,:].view(-1,input_channels,ny,nx).shape = (1,input_channels,ny,nx)\n",
    "        #train_y_torch[t,:,:,:].view(-1,output_channels,ny,nx).shape = (1,output_channels,ny,nx)\n",
    "        var_x = train_x_torch[t,:,:,:].view(-1,input_channels,ny,nx).to(device) #(1,input_channels,ny,nx)\n",
    "        var_y = train_y_torch[t,:,:,:].view(-1,output_channels,ny,nx).to(device) # (1,output_channels,ny,nx)\n",
    "        #\n",
    "        # Forward process\n",
    "        pred_y0, _ = model(var_x, t) #var_x=(1,input_channels,ny,nx)  pred_y=(1,output_channels,ny,nx)\n",
    "        # compute loss (and the cumulative loss from all the time steps)\n",
    "        if t == 0:\n",
    "            loss0 = loss_fn(pred_y0, var_y) #var_y=(1,output_channels,ny,nx)\n",
    "            mape0=np.mean( abs((pred_y0-var_y)/var_y).detach().numpy() )\n",
    "        else:\n",
    "            loss0 += loss_fn(pred_y0, var_y)\n",
    "            mape0 += np.mean( abs((pred_y0-var_y)/var_y).detach().numpy() )\n",
    "        #print the loss for each time step that we are trying to predict\n",
    "        #if epoch % 10 == 0: print(\"Epoch=\", epoch, \"time=\", t, \"MSE=\", loss_fn(pred_y, var_y).item())\n",
    "        #print(\"Epoch=\", epoch, \"time=\", t, \"MSE=\", loss_fn(pred_y0, var_y).item())\n",
    "        if epoch == num_epochs-1: pred_y.append(pred_y0.detach().numpy())\n",
    "    #cumulative loss from all the time steps (the loss we use for bacward propagation)\n",
    "    if epoch % 10 == 0: \n",
    "        print(\"Epoch \", epoch, \"; sum(MSE(t)) = \", loss0.item(), \"; sum(MAE(t)) = \", mape0) \n",
    "    #if epoch % 10 == 0: print(\"sum MSE(t) = \", loss0.item()) \n",
    "    #print(\"sum MSE(t) = \", loss0.item()) \n",
    "    loss[epoch] = loss0.item() #tensor value to standard float\n",
    "    mape[epoch] = mape0 \n",
    "\n",
    "    # Zero out gradient, else they will accumulate between epochs\n",
    "    optimizer.zero_grad()\n",
    "    \n",
    "    # Backward pass\n",
    "    # Backward propagation is kicked off when we call .backward() on the error tensor.\n",
    "    # Autograd then calculates and stores the gradients for each model parameter in the parameter’s \".grad\" attribute.\n",
    "    loss0.backward()\n",
    "\n",
    "    # Update parameters\n",
    "    optimizer.step() #to initiate gradient descent\n",
    "\n",
    "# save the general checkpoint\n",
    "torch.save({\n",
    "            'epoch': epoch,\n",
    "            'model_state_dict': model.state_dict(),\n",
    "            'optimizer_state_dict': optimizer.state_dict(),\n",
    "            'loss': loss0.item()\n",
    "            }, os.path.join(output_path,'Lagrangian_ML_training_checkpoint.pt'))\n",
    "print(\"The checkpoint of the model and training status is saved.\")\n",
    "#\n",
    "pred_y=np.reshape(pred_y,(nt,output_channels,ny,nx)) #save to numpy array outputs (nt,output_channels,ny,nx)"
   ]
  },
  {
   "cell_type": "code",
   "execution_count": 11,
   "metadata": {},
   "outputs": [
    {
     "data": {
      "text/plain": [
       "Text(0, 0.5, '$\\\\sum_t$ loss[epoch,t] / N')"
      ]
     },
     "execution_count": 11,
     "metadata": {},
     "output_type": "execute_result"
    },
    {
     "data": {
      "image/png": "[encoded data removed]",
      "text/plain": [
       "<Figure size 432x288 with 1 Axes>"
      ]
     },
     "metadata": {
      "needs_background": "light"
     },
     "output_type": "display_data"
    }
   ],
   "source": [
    "plt.plot(range(num_epochs),loss/nt)\n",
    "plt.xlabel('epoch');plt.ylabel('$\\sum_t$ loss[epoch,t] / N',fontsize=12)"
   ]
  },
  {
   "cell_type": "code",
   "execution_count": 12,
   "metadata": {},
   "outputs": [
    {
     "data": {
      "image/png": "[encoded data removed]",
      "text/plain": [
       "<Figure size 432x288 with 1 Axes>"
      ]
     },
     "metadata": {
      "needs_background": "light"
     },
     "output_type": "display_data"
    }
   ],
   "source": [
    "plt.plot(range(num_epochs),mape/nt*100)\n",
    "plt.xlabel('epoch');plt.ylabel('$\\sum_t$ mape[epoch,t] / N * 100 (%)',fontsize=12);"
   ]
  },
  {
   "cell_type": "code",
   "execution_count": 20,
   "metadata": {},
   "outputs": [
    {
     "data": {
      "text/plain": [
       "(0.2608041763305664, 1071.209971110026)"
      ]
     },
     "execution_count": 20,
     "metadata": {},
     "output_type": "execute_result"
    }
   ],
   "source": [
    "loss[-1]/nt,mape[-1]/nt*100"
   ]
  },
  {
   "cell_type": "code",
   "execution_count": 21,
   "metadata": {},
   "outputs": [
    {
     "name": "stdout",
     "output_type": "stream",
     "text": [
      "t=0: mse=0.3024400472640991;  mape=31.223196029663086%\n",
      "t=1: mse=0.20130576193332672;  mape=0.5228323340415955%\n",
      "t=2: mse=0.2786666452884674;  mape=0.3902694284915924%\n",
      "mean(mse(t))= 0.26080413659413654\n",
      "mean(mape(t))= 1071.209971110026 %\n",
      "\n",
      "MAE using the final output matrix =  1071.2100982666016 %\n"
     ]
    }
   ],
   "source": [
    "#check the errors for each time of the last epoch\n",
    "msee=[];mapee=[]\n",
    "for i in range(nt):\n",
    "    mse0=np.mean( (pred_y-train_y_torch.numpy())[i,...]**2)\n",
    "    mape0=np.mean( abs(((pred_y-train_y_torch.numpy())/train_y_torch.numpy())[i,...]) )\n",
    "    msee.append(mse0); mapee.append(mape0)\n",
    "    print(f\"t={i}: mse={mse0};  mape={mape0}%\")\n",
    "print(\"mean(mse(t))=\",np.sum(msee)/nt)\n",
    "print(\"mean(mape(t))=\",np.sum(mapee)/nt*100,\"%\")\n",
    "print()\n",
    "print(\"MAE using the final output matrix = \",abs((pred_y-train_y_torch.numpy())/train_y_torch.numpy()).mean()*100,\"%\")"
   ]
  },
  {
   "cell_type": "code",
   "execution_count": 30,
   "metadata": {},
   "outputs": [],
   "source": [
    "#understand better above"
   ]
  },
  {
   "cell_type": "code",
   "execution_count": 31,
   "metadata": {},
   "outputs": [
    {
     "name": "stdout",
     "output_type": "stream",
     "text": [
      "tensor([0, 1, 2, 3, 4, 5, 6, 7, 8, 9]) tensor([0, 1, 2, 3, 4, 5, 6, 7, 8, 9]) tensor([0, 1, 2, 3, 4, 5, 6, 7, 8, 9]) tensor([0, 1, 2, 3, 4, 5, 6, 7, 8, 9])\n",
      "\n",
      "torch.Size([1, 4, 7, 5]) torch.Size([1, 2, 7, 5]) torch.Size([1, 2, 7, 5]) tensor(1.2755) tensor(3.1022, grad_fn=<SumBackward0>)\n",
      "tensor(0.3727, grad_fn=<MseLossBackward>)\n",
      "torch.Size([1, 4, 7, 5]) torch.Size([1, 2, 7, 5]) torch.Size([1, 2, 7, 5]) tensor(5.0983) tensor(0.5063, grad_fn=<SumBackward0>)\n",
      "tensor(0.6555, grad_fn=<AddBackward0>)\n"
     ]
    },
    {
     "data": {
      "text/plain": [
       "tensor(0.)"
      ]
     },
     "execution_count": 31,
     "metadata": {},
     "output_type": "execute_result"
    }
   ],
   "source": [
    "#so the function \"Variable\" and \"torch.autograd.Variable\" seem to be useless because = to the original torch tensor\n",
    "a=torch.from_numpy(np.arange(10)) #convert numpy to torch tensor\n",
    "print(Variable(torch.arange(10)),torch.arange(10),a,torch.autograd.Variable(a))\n",
    "print()\n",
    "\n",
    "epoch=0\n",
    "model.zero_grad()\n",
    "for t in range(2):\n",
    "    #torch.autograd.Variable(train_x_torch[t,:,:,:].view(-1,input_channels,ny,nx)).to(device) = below\n",
    "    #so torch.autograd.Variable seems useless\n",
    "    var_x = train_x_torch[t,:,:,:].view(-1,input_channels,ny,nx).to(device) \n",
    "    var_y = train_y_torch[t,:,:,:].view(-1,output_channels,ny,nx).to(device)\n",
    "    pred_y, _ = model(var_x, t)\n",
    "    print(var_x.shape,var_y.shape,pred_y.shape,var_y.sum(),pred_y.sum())\n",
    "    if t == 0:\n",
    "        loss0 = loss_fn(pred_y, var_y)\n",
    "    else:\n",
    "        loss0 += loss_fn(pred_y, var_y)\n",
    "    print(loss0)\n",
    "optimizer.zero_grad()\n",
    "loss0.backward()\n",
    "optimizer.step()\n",
    "#\n",
    "a=train_y_torch[t,...][np.newaxis,...].to(device) \n",
    "(a-var_y).sum()"
   ]
  },
  {
   "cell_type": "code",
   "execution_count": null,
   "metadata": {},
   "outputs": [],
   "source": [
    "#below method not working well , but it is very similar to Yang model"
   ]
  },
  {
   "cell_type": "code",
   "execution_count": 20,
   "metadata": {},
   "outputs": [
    {
     "name": "stdout",
     "output_type": "stream",
     "text": [
      "torch.Size([3, 4, 7, 5]) torch.Size([3, 2, 7, 5])\n"
     ]
    }
   ],
   "source": [
    "#https://github.com/automan000/Convolutional_LSTM_PyTorch/blob/master/convolution_lstm.py\n",
    "\n",
    "import torch\n",
    "import torch.nn as nn\n",
    "from torch.autograd import Variable\n",
    "\n",
    "\n",
    "class ConvLSTMCell(nn.Module):\n",
    "    def __init__(self, input_channels, hidden_channels, kernel_size):\n",
    "        super(ConvLSTMCell, self).__init__()\n",
    "\n",
    "        #assert hidden_channels % 2 == 0\n",
    "\n",
    "        self.input_channels = input_channels\n",
    "        self.hidden_channels = hidden_channels\n",
    "        self.kernel_size = kernel_size\n",
    "        self.num_features = 4\n",
    "\n",
    "        self.padding = int((kernel_size - 1) / 2)\n",
    "\n",
    "        self.Wxi = nn.Conv2d(self.input_channels, self.hidden_channels, self.kernel_size, 1, self.padding, bias=True)\n",
    "        self.Whi = nn.Conv2d(self.hidden_channels, self.hidden_channels, self.kernel_size, 1, self.padding, bias=False)\n",
    "        self.Wxf = nn.Conv2d(self.input_channels, self.hidden_channels, self.kernel_size, 1, self.padding, bias=True)\n",
    "        self.Whf = nn.Conv2d(self.hidden_channels, self.hidden_channels, self.kernel_size, 1, self.padding, bias=False)\n",
    "        self.Wxc = nn.Conv2d(self.input_channels, self.hidden_channels, self.kernel_size, 1, self.padding, bias=True)\n",
    "        self.Whc = nn.Conv2d(self.hidden_channels, self.hidden_channels, self.kernel_size, 1, self.padding, bias=False)\n",
    "        self.Wxo = nn.Conv2d(self.input_channels, self.hidden_channels, self.kernel_size, 1, self.padding, bias=True)\n",
    "        self.Who = nn.Conv2d(self.hidden_channels, self.hidden_channels, self.kernel_size, 1, self.padding, bias=False)\n",
    "\n",
    "        self.Wci = None\n",
    "        self.Wcf = None\n",
    "        self.Wco = None\n",
    "\n",
    "    def forward(self, x, h, c):\n",
    "        ci = torch.sigmoid(self.Wxi(x) + self.Whi(h) + c * self.Wci)\n",
    "        cf = torch.sigmoid(self.Wxf(x) + self.Whf(h) + c * self.Wcf)\n",
    "        cc = cf * c + ci * torch.tanh(self.Wxc(x) + self.Whc(h))\n",
    "        co = torch.sigmoid(self.Wxo(x) + self.Who(h) + cc * self.Wco)\n",
    "        ch = co * torch.tanh(cc)\n",
    "        return ch, cc\n",
    "\n",
    "    def init_hidden(self, batch_size, hidden, shape):\n",
    "        if self.Wci is None:\n",
    "            self.Wci = nn.Parameter(torch.zeros(1, hidden, shape[0], shape[1])).cpu()\n",
    "            self.Wcf = nn.Parameter(torch.zeros(1, hidden, shape[0], shape[1])).cpu()\n",
    "            self.Wco = nn.Parameter(torch.zeros(1, hidden, shape[0], shape[1])).cpu()\n",
    "        else:\n",
    "            assert shape[0] == self.Wci.size()[2], 'Input Height Mismatched!'\n",
    "            assert shape[1] == self.Wci.size()[3], 'Input Width Mismatched!'\n",
    "        return (Variable(torch.zeros(batch_size, hidden, shape[0], shape[1])).cpu(),\n",
    "                Variable(torch.zeros(batch_size, hidden, shape[0], shape[1])).cpu())\n",
    "\n",
    "\n",
    "class ConvLSTM(nn.Module):\n",
    "    # input_channels corresponds to the first input feature map\n",
    "    # hidden state is a list of succeeding lstm layers.\n",
    "    def __init__(self, input_channels, hidden_channels, kernel_size, step=1, effective_step=[1]):\n",
    "        super(ConvLSTM, self).__init__()\n",
    "        self.input_channels = [input_channels] + hidden_channels\n",
    "        self.hidden_channels = hidden_channels\n",
    "        self.kernel_size = kernel_size\n",
    "        self.num_layers = len(hidden_channels)\n",
    "        self.step = step\n",
    "        self.effective_step = effective_step\n",
    "        self._all_layers = []\n",
    "        for i in range(self.num_layers):\n",
    "            name = 'cell{}'.format(i)\n",
    "            cell = ConvLSTMCell(self.input_channels[i], self.hidden_channels[i], self.kernel_size)\n",
    "            setattr(self, name, cell)\n",
    "            self._all_layers.append(cell)\n",
    "\n",
    "    def forward(self, input):\n",
    "        internal_state = []\n",
    "        outputs = []\n",
    "        for step in range(self.step):\n",
    "            x = input\n",
    "            for i in range(self.num_layers):\n",
    "                # all cells are initialized in the first step\n",
    "                name = 'cell{}'.format(i)\n",
    "                if step == 0:\n",
    "                    bsize, _, height, width = x.size()\n",
    "                    (h, c) = getattr(self, name).init_hidden(batch_size=bsize, hidden=self.hidden_channels[i],\n",
    "                                                             shape=(height, width))\n",
    "                    internal_state.append((h, c))\n",
    "\n",
    "                # do forward\n",
    "                (h, c) = internal_state[i]\n",
    "                x, new_c = getattr(self, name)(x, h, c)\n",
    "                internal_state[i] = (x, new_c)\n",
    "                #print(step,name,input.shape,x.shape)\n",
    "            # only record effective steps\n",
    "            if step in self.effective_step:\n",
    "                #print(step,name,input.shape,x.shape)\n",
    "                outputs.append(x)\n",
    "        return outputs, (x, new_c)\n",
    "\n",
    "\n",
    "if __name__ == '__main__':\n",
    "    \n",
    "    # gradient check\n",
    "    #convlstm = ConvLSTM(input_channels=6, hidden_channels=[8, 4, 2], kernel_size=3, step=7,\n",
    "    #                    effective_step=[6]).cpu()\n",
    "    for i in range(num_epochs):\n",
    "        convlstm = ConvLSTM(input_channels=input_channels, hidden_channels=hidden_channels, kernel_size=kernel_size, step=nt,\n",
    "                            effective_step=[nt-1]).cpu()\n",
    "        loss_fn = torch.nn.MSELoss()\n",
    "\n",
    "        #input = Variable(torch.randn(3, 6, 10, 12)).cpu()\n",
    "        #target = Variable(torch.randn(3, 2,10, 12)).double().cpu()\n",
    "        input=train_x_torch\n",
    "        target=train_y_torch.double()\n",
    "\n",
    "        output = convlstm(input)\n",
    "        output = output[0][0].double()\n",
    "        res = torch.autograd.gradcheck(loss_fn, (output, target), eps=1e-6, raise_exception=True)\n",
    "        #print()\n",
    "        #print(res)\n",
    "\n",
    "    print(input.shape,output.shape)"
   ]
  },
  {
   "cell_type": "code",
   "execution_count": 22,
   "metadata": {},
   "outputs": [
    {
     "name": "stdout",
     "output_type": "stream",
     "text": [
      "[1.108068, 0.7323234, 0.6472054] 2.4875968\n",
      "[1.039829985680998, 1.0002542244964725, 1.08927732847695] 3.12936153865442\n",
      "\n"
     ]
    },
    {
     "data": {
      "text/plain": [
       "(tensor(102.6513, dtype=torch.float64, grad_fn=<MulBackward0>),\n",
       " 143.71206760406494)"
      ]
     },
     "execution_count": 22,
     "metadata": {},
     "output_type": "execute_result"
    }
   ],
   "source": [
    "#contrast above 2 methods\n",
    "\n",
    "a=[];b=[]\n",
    "for i in range(nt):\n",
    "    a.append(np.mean( (pred_y-train_y_torch.numpy())[i,...]**2))\n",
    "    b.append( float(((output-target)[i,...]**2).mean().detach().numpy()))\n",
    "print(a,np.sum(a))\n",
    "print(b,np.sum(b))\n",
    "print()\n",
    "abs((output-target)/target).mean()*100, abs((pred_y-train_y_torch.numpy())/train_y_torch.numpy()).mean()*100"
   ]
  },
  {
   "cell_type": "code",
   "execution_count": null,
   "metadata": {},
   "outputs": [],
   "source": []
  }
 ],
 "metadata": {
  "interpreter": {
   "hash": "90e02b2587fbb2ca467fc85381f5522fddb4a9e5fbb8605712260c849ecf752b"
  },
  "kernelspec": {
   "display_name": "Python 3 (ipykernel)",
   "language": "python",
   "name": "python3"
  },
  "language_info": {
   "codemirror_mode": {
    "name": "ipython",
    "version": 3
   },
   "file_extension": ".py",
   "mimetype": "text/x-python",
   "name": "python",
   "nbconvert_exporter": "python",
   "pygments_lexer": "ipython3",
   "version": "3.8.10"
  }
 },
 "nbformat": 4,
 "nbformat_minor": 4
}
